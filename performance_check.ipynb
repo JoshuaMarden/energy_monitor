{
 "cells": [
  {
   "cell_type": "markdown",
   "metadata": {},
   "source": [
    "# Performance Tracker\n",
    "\n",
    "### Tracks the performance of all scripts that generate a `.prof` file and store it in logs\n",
    "\n",
    "This is designed to help you keep run times low. Useful if we wish to execute on lambdas etc.\n",
    "\n",
    "This can be difficult to run because Jupyter selects and runs from the wrong kernels. If for example you have installed `snakeViz` but it is saying it cannot be imported, it is using the wrong python kernel - it must be using you `.venv`."
   ]
  },
  {
   "cell_type": "code",
   "execution_count": 1,
   "metadata": {},
   "outputs": [
    {
     "name": "stdout",
     "output_type": "stream",
     "text": [
      "Running snakeviz for tmp/logs/extract_production_performance.prof\n",
      "snakeviz web server started on 127.0.0.1:8080; enter Ctrl-C to exit\n",
      "http://127.0.0.1:8080/snakeviz/%2FUsers%2Fjoshuasigma%2FDocuments%2FSigma%2Fenergy_monitor%2Ftmp%2Flogs%2Fextract_production_performance.prof\n"
     ]
    }
   ],
   "source": [
    "import sys\n",
    "import os\n",
    "import glob\n",
    "\n",
    "import snakeviz\n",
    "import config as cg\n",
    "from constants import Constants as ct\n",
    "\n",
    "# Path to the logs directory\n",
    "LOGS_DIR = ct.LOGS\n",
    "\n",
    "# Find all .prof files in the logs directory\n",
    "profile_files = glob.glob(os.path.join(LOGS_DIR, '*.prof'))\n",
    "\n",
    "# Run snakeviz for each .prof file found\n",
    "for profile_file in profile_files:\n",
    "    print(f\"Running snakeviz for {profile_file}\")\n",
    "    os.system(f\"snakeviz {profile_file}\")"
   ]
  }
 ],
 "metadata": {
  "kernelspec": {
   "display_name": "Python 3",
   "language": "python",
   "name": "python3"
  },
  "language_info": {
   "codemirror_mode": {
    "name": "ipython",
    "version": 3
   },
   "file_extension": ".py",
   "mimetype": "text/x-python",
   "name": "python",
   "nbconvert_exporter": "python",
   "pygments_lexer": "ipython3",
   "version": "3.12.3"
  }
 },
 "nbformat": 4,
 "nbformat_minor": 2
}
